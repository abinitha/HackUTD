{
 "cells": [
  {
   "cell_type": "code",
   "execution_count": 1,
   "metadata": {},
   "outputs": [],
   "source": [
    "import pandas as pd\n",
    "import numpy as np\n",
    "\n",
    "import seaborn as sns\n",
    "import matplotlib.pyplot as plt\n",
    "\n",
    "import warnings\n",
    "warnings.filterwarnings(\"ignore\")"
   ]
  },
  {
   "cell_type": "code",
   "execution_count": 2,
   "metadata": {},
   "outputs": [],
   "source": [
    "df_2004 = pd.read_csv('Processed_loans_2004.csv')\n",
    "df_2008 = pd.read_csv('Processed_loans_2008.csv')\n",
    "df_2012 = pd.read_csv('Processed_loans_2012.csv')\n",
    "df_2016 = pd.read_csv('Processed_loans_2016.csv')"
   ]
  },
  {
   "cell_type": "code",
   "execution_count": 4,
   "metadata": {
    "scrolled": true
   },
   "outputs": [
    {
     "data": {
      "text/html": [
       "<div>\n",
       "<style scoped>\n",
       "    .dataframe tbody tr th:only-of-type {\n",
       "        vertical-align: middle;\n",
       "    }\n",
       "\n",
       "    .dataframe tbody tr th {\n",
       "        vertical-align: top;\n",
       "    }\n",
       "\n",
       "    .dataframe thead th {\n",
       "        text-align: right;\n",
       "    }\n",
       "</style>\n",
       "<table border=\"1\" class=\"dataframe\">\n",
       "  <thead>\n",
       "    <tr style=\"text-align: right;\">\n",
       "      <th></th>\n",
       "      <th>Loan_ID</th>\n",
       "      <th>Interest_Rate</th>\n",
       "      <th>UPB</th>\n",
       "      <th>Loan_Term</th>\n",
       "      <th>LTV</th>\n",
       "      <th>CLTV</th>\n",
       "      <th>Num_Borrowers</th>\n",
       "      <th>DTI</th>\n",
       "      <th>Borrower_FICO</th>\n",
       "      <th>Unit_Count</th>\n",
       "      <th>Zip</th>\n",
       "      <th>Insurance%</th>\n",
       "      <th>Mortgage_Insurance_Type</th>\n",
       "      <th>Period</th>\n",
       "      <th>Current_IR</th>\n",
       "      <th>Current_UPB</th>\n",
       "      <th>Age</th>\n",
       "      <th>Origin_Month</th>\n",
       "      <th>Origin_Year</th>\n",
       "    </tr>\n",
       "  </thead>\n",
       "  <tbody>\n",
       "    <tr>\n",
       "      <th>Loan_ID</th>\n",
       "      <td>1.000000</td>\n",
       "      <td>0.000062</td>\n",
       "      <td>-0.002461</td>\n",
       "      <td>-0.001263</td>\n",
       "      <td>0.003346</td>\n",
       "      <td>0.004170</td>\n",
       "      <td>-0.001146</td>\n",
       "      <td>-0.004608</td>\n",
       "      <td>0.004372</td>\n",
       "      <td>-0.001916</td>\n",
       "      <td>-0.005411</td>\n",
       "      <td>0.005242</td>\n",
       "      <td>0.002568</td>\n",
       "      <td>0.004380</td>\n",
       "      <td>-0.000041</td>\n",
       "      <td>-0.002905</td>\n",
       "      <td>0.004635</td>\n",
       "      <td>-0.001572</td>\n",
       "      <td>NaN</td>\n",
       "    </tr>\n",
       "    <tr>\n",
       "      <th>Interest_Rate</th>\n",
       "      <td>0.000062</td>\n",
       "      <td>1.000000</td>\n",
       "      <td>0.025379</td>\n",
       "      <td>0.708859</td>\n",
       "      <td>0.265526</td>\n",
       "      <td>0.262746</td>\n",
       "      <td>-0.110920</td>\n",
       "      <td>0.184152</td>\n",
       "      <td>-0.208904</td>\n",
       "      <td>0.120816</td>\n",
       "      <td>0.045311</td>\n",
       "      <td>0.162030</td>\n",
       "      <td>0.153735</td>\n",
       "      <td>-0.101084</td>\n",
       "      <td>0.999119</td>\n",
       "      <td>0.201374</td>\n",
       "      <td>-0.088775</td>\n",
       "      <td>-0.282329</td>\n",
       "      <td>NaN</td>\n",
       "    </tr>\n",
       "    <tr>\n",
       "      <th>UPB</th>\n",
       "      <td>-0.002461</td>\n",
       "      <td>0.025379</td>\n",
       "      <td>1.000000</td>\n",
       "      <td>0.196690</td>\n",
       "      <td>0.028354</td>\n",
       "      <td>0.059943</td>\n",
       "      <td>0.129300</td>\n",
       "      <td>0.064016</td>\n",
       "      <td>0.077603</td>\n",
       "      <td>0.043422</td>\n",
       "      <td>0.099851</td>\n",
       "      <td>-0.015927</td>\n",
       "      <td>-0.006079</td>\n",
       "      <td>-0.104891</td>\n",
       "      <td>0.025419</td>\n",
       "      <td>0.910575</td>\n",
       "      <td>-0.107765</td>\n",
       "      <td>0.013032</td>\n",
       "      <td>NaN</td>\n",
       "    </tr>\n",
       "    <tr>\n",
       "      <th>Loan_Term</th>\n",
       "      <td>-0.001263</td>\n",
       "      <td>0.708859</td>\n",
       "      <td>0.196690</td>\n",
       "      <td>1.000000</td>\n",
       "      <td>0.303295</td>\n",
       "      <td>0.303876</td>\n",
       "      <td>-0.097074</td>\n",
       "      <td>0.136856</td>\n",
       "      <td>-0.069069</td>\n",
       "      <td>0.019739</td>\n",
       "      <td>0.076015</td>\n",
       "      <td>0.218695</td>\n",
       "      <td>0.182551</td>\n",
       "      <td>-0.022778</td>\n",
       "      <td>0.708438</td>\n",
       "      <td>0.382515</td>\n",
       "      <td>-0.019913</td>\n",
       "      <td>-0.049707</td>\n",
       "      <td>NaN</td>\n",
       "    </tr>\n",
       "    <tr>\n",
       "      <th>LTV</th>\n",
       "      <td>0.003346</td>\n",
       "      <td>0.265526</td>\n",
       "      <td>0.028354</td>\n",
       "      <td>0.303295</td>\n",
       "      <td>1.000000</td>\n",
       "      <td>0.970603</td>\n",
       "      <td>-0.091177</td>\n",
       "      <td>0.120576</td>\n",
       "      <td>-0.155480</td>\n",
       "      <td>-0.044693</td>\n",
       "      <td>-0.042665</td>\n",
       "      <td>0.531254</td>\n",
       "      <td>0.512354</td>\n",
       "      <td>-0.005846</td>\n",
       "      <td>0.265236</td>\n",
       "      <td>0.100135</td>\n",
       "      <td>-0.001984</td>\n",
       "      <td>-0.056391</td>\n",
       "      <td>NaN</td>\n",
       "    </tr>\n",
       "    <tr>\n",
       "      <th>CLTV</th>\n",
       "      <td>0.004170</td>\n",
       "      <td>0.262746</td>\n",
       "      <td>0.059943</td>\n",
       "      <td>0.303876</td>\n",
       "      <td>0.970603</td>\n",
       "      <td>1.000000</td>\n",
       "      <td>-0.080209</td>\n",
       "      <td>0.125620</td>\n",
       "      <td>-0.161360</td>\n",
       "      <td>-0.050414</td>\n",
       "      <td>-0.043687</td>\n",
       "      <td>0.514820</td>\n",
       "      <td>0.495887</td>\n",
       "      <td>-0.013010</td>\n",
       "      <td>0.262454</td>\n",
       "      <td>0.130539</td>\n",
       "      <td>-0.009281</td>\n",
       "      <td>-0.054813</td>\n",
       "      <td>NaN</td>\n",
       "    </tr>\n",
       "    <tr>\n",
       "      <th>Num_Borrowers</th>\n",
       "      <td>-0.001146</td>\n",
       "      <td>-0.110920</td>\n",
       "      <td>0.129300</td>\n",
       "      <td>-0.097074</td>\n",
       "      <td>-0.091177</td>\n",
       "      <td>-0.080209</td>\n",
       "      <td>1.000000</td>\n",
       "      <td>-0.125288</td>\n",
       "      <td>0.117478</td>\n",
       "      <td>-0.011249</td>\n",
       "      <td>0.016730</td>\n",
       "      <td>-0.060312</td>\n",
       "      <td>-0.054108</td>\n",
       "      <td>0.007384</td>\n",
       "      <td>-0.110726</td>\n",
       "      <td>0.089919</td>\n",
       "      <td>0.005696</td>\n",
       "      <td>0.037539</td>\n",
       "      <td>NaN</td>\n",
       "    </tr>\n",
       "    <tr>\n",
       "      <th>DTI</th>\n",
       "      <td>-0.004608</td>\n",
       "      <td>0.184152</td>\n",
       "      <td>0.064016</td>\n",
       "      <td>0.136856</td>\n",
       "      <td>0.120576</td>\n",
       "      <td>0.125620</td>\n",
       "      <td>-0.125288</td>\n",
       "      <td>1.000000</td>\n",
       "      <td>-0.196455</td>\n",
       "      <td>0.036456</td>\n",
       "      <td>0.029801</td>\n",
       "      <td>0.077696</td>\n",
       "      <td>0.068377</td>\n",
       "      <td>-0.007986</td>\n",
       "      <td>0.183779</td>\n",
       "      <td>0.103464</td>\n",
       "      <td>-0.005609</td>\n",
       "      <td>-0.050836</td>\n",
       "      <td>NaN</td>\n",
       "    </tr>\n",
       "    <tr>\n",
       "      <th>Borrower_FICO</th>\n",
       "      <td>0.004372</td>\n",
       "      <td>-0.208904</td>\n",
       "      <td>0.077603</td>\n",
       "      <td>-0.069069</td>\n",
       "      <td>-0.155480</td>\n",
       "      <td>-0.161360</td>\n",
       "      <td>0.117478</td>\n",
       "      <td>-0.196455</td>\n",
       "      <td>1.000000</td>\n",
       "      <td>-0.006328</td>\n",
       "      <td>0.049400</td>\n",
       "      <td>-0.084048</td>\n",
       "      <td>-0.072558</td>\n",
       "      <td>0.018426</td>\n",
       "      <td>-0.208043</td>\n",
       "      <td>0.030255</td>\n",
       "      <td>0.016354</td>\n",
       "      <td>0.035862</td>\n",
       "      <td>NaN</td>\n",
       "    </tr>\n",
       "    <tr>\n",
       "      <th>Unit_Count</th>\n",
       "      <td>-0.001916</td>\n",
       "      <td>0.120816</td>\n",
       "      <td>0.043422</td>\n",
       "      <td>0.019739</td>\n",
       "      <td>-0.044693</td>\n",
       "      <td>-0.050414</td>\n",
       "      <td>-0.011249</td>\n",
       "      <td>0.036456</td>\n",
       "      <td>-0.006328</td>\n",
       "      <td>1.000000</td>\n",
       "      <td>0.006123</td>\n",
       "      <td>-0.048843</td>\n",
       "      <td>-0.049357</td>\n",
       "      <td>0.013933</td>\n",
       "      <td>0.120837</td>\n",
       "      <td>0.041133</td>\n",
       "      <td>0.014272</td>\n",
       "      <td>-0.019642</td>\n",
       "      <td>NaN</td>\n",
       "    </tr>\n",
       "    <tr>\n",
       "      <th>Zip</th>\n",
       "      <td>-0.005411</td>\n",
       "      <td>0.045311</td>\n",
       "      <td>0.099851</td>\n",
       "      <td>0.076015</td>\n",
       "      <td>-0.042665</td>\n",
       "      <td>-0.043687</td>\n",
       "      <td>0.016730</td>\n",
       "      <td>0.029801</td>\n",
       "      <td>0.049400</td>\n",
       "      <td>0.006123</td>\n",
       "      <td>1.000000</td>\n",
       "      <td>-0.014558</td>\n",
       "      <td>-0.021603</td>\n",
       "      <td>-0.084995</td>\n",
       "      <td>0.045603</td>\n",
       "      <td>0.113507</td>\n",
       "      <td>-0.088628</td>\n",
       "      <td>0.045304</td>\n",
       "      <td>NaN</td>\n",
       "    </tr>\n",
       "    <tr>\n",
       "      <th>Insurance%</th>\n",
       "      <td>0.005242</td>\n",
       "      <td>0.162030</td>\n",
       "      <td>-0.015927</td>\n",
       "      <td>0.218695</td>\n",
       "      <td>0.531254</td>\n",
       "      <td>0.514820</td>\n",
       "      <td>-0.060312</td>\n",
       "      <td>0.077696</td>\n",
       "      <td>-0.084048</td>\n",
       "      <td>-0.048843</td>\n",
       "      <td>-0.014558</td>\n",
       "      <td>1.000000</td>\n",
       "      <td>0.911738</td>\n",
       "      <td>-0.011749</td>\n",
       "      <td>0.161855</td>\n",
       "      <td>0.040566</td>\n",
       "      <td>-0.009253</td>\n",
       "      <td>-0.040856</td>\n",
       "      <td>NaN</td>\n",
       "    </tr>\n",
       "    <tr>\n",
       "      <th>Mortgage_Insurance_Type</th>\n",
       "      <td>0.002568</td>\n",
       "      <td>0.153735</td>\n",
       "      <td>-0.006079</td>\n",
       "      <td>0.182551</td>\n",
       "      <td>0.512354</td>\n",
       "      <td>0.495887</td>\n",
       "      <td>-0.054108</td>\n",
       "      <td>0.068377</td>\n",
       "      <td>-0.072558</td>\n",
       "      <td>-0.049357</td>\n",
       "      <td>-0.021603</td>\n",
       "      <td>0.911738</td>\n",
       "      <td>1.000000</td>\n",
       "      <td>-0.016188</td>\n",
       "      <td>0.153459</td>\n",
       "      <td>0.044917</td>\n",
       "      <td>-0.013832</td>\n",
       "      <td>-0.040027</td>\n",
       "      <td>NaN</td>\n",
       "    </tr>\n",
       "    <tr>\n",
       "      <th>Period</th>\n",
       "      <td>0.004380</td>\n",
       "      <td>-0.101084</td>\n",
       "      <td>-0.104891</td>\n",
       "      <td>-0.022778</td>\n",
       "      <td>-0.005846</td>\n",
       "      <td>-0.013010</td>\n",
       "      <td>0.007384</td>\n",
       "      <td>-0.007986</td>\n",
       "      <td>0.018426</td>\n",
       "      <td>0.013933</td>\n",
       "      <td>-0.084995</td>\n",
       "      <td>-0.011749</td>\n",
       "      <td>-0.016188</td>\n",
       "      <td>1.000000</td>\n",
       "      <td>-0.101365</td>\n",
       "      <td>-0.258249</td>\n",
       "      <td>0.995989</td>\n",
       "      <td>0.074320</td>\n",
       "      <td>NaN</td>\n",
       "    </tr>\n",
       "    <tr>\n",
       "      <th>Current_IR</th>\n",
       "      <td>-0.000041</td>\n",
       "      <td>0.999119</td>\n",
       "      <td>0.025419</td>\n",
       "      <td>0.708438</td>\n",
       "      <td>0.265236</td>\n",
       "      <td>0.262454</td>\n",
       "      <td>-0.110726</td>\n",
       "      <td>0.183779</td>\n",
       "      <td>-0.208043</td>\n",
       "      <td>0.120837</td>\n",
       "      <td>0.045603</td>\n",
       "      <td>0.161855</td>\n",
       "      <td>0.153459</td>\n",
       "      <td>-0.101365</td>\n",
       "      <td>1.000000</td>\n",
       "      <td>0.201203</td>\n",
       "      <td>-0.089061</td>\n",
       "      <td>-0.282071</td>\n",
       "      <td>NaN</td>\n",
       "    </tr>\n",
       "    <tr>\n",
       "      <th>Current_UPB</th>\n",
       "      <td>-0.002905</td>\n",
       "      <td>0.201374</td>\n",
       "      <td>0.910575</td>\n",
       "      <td>0.382515</td>\n",
       "      <td>0.100135</td>\n",
       "      <td>0.130539</td>\n",
       "      <td>0.089919</td>\n",
       "      <td>0.103464</td>\n",
       "      <td>0.030255</td>\n",
       "      <td>0.041133</td>\n",
       "      <td>0.113507</td>\n",
       "      <td>0.040566</td>\n",
       "      <td>0.044917</td>\n",
       "      <td>-0.258249</td>\n",
       "      <td>0.201203</td>\n",
       "      <td>1.000000</td>\n",
       "      <td>-0.260945</td>\n",
       "      <td>-0.006552</td>\n",
       "      <td>NaN</td>\n",
       "    </tr>\n",
       "    <tr>\n",
       "      <th>Age</th>\n",
       "      <td>0.004635</td>\n",
       "      <td>-0.088775</td>\n",
       "      <td>-0.107765</td>\n",
       "      <td>-0.019913</td>\n",
       "      <td>-0.001984</td>\n",
       "      <td>-0.009281</td>\n",
       "      <td>0.005696</td>\n",
       "      <td>-0.005609</td>\n",
       "      <td>0.016354</td>\n",
       "      <td>0.014272</td>\n",
       "      <td>-0.088628</td>\n",
       "      <td>-0.009253</td>\n",
       "      <td>-0.013832</td>\n",
       "      <td>0.995989</td>\n",
       "      <td>-0.089061</td>\n",
       "      <td>-0.260945</td>\n",
       "      <td>1.000000</td>\n",
       "      <td>0.030223</td>\n",
       "      <td>NaN</td>\n",
       "    </tr>\n",
       "    <tr>\n",
       "      <th>Origin_Month</th>\n",
       "      <td>-0.001572</td>\n",
       "      <td>-0.282329</td>\n",
       "      <td>0.013032</td>\n",
       "      <td>-0.049707</td>\n",
       "      <td>-0.056391</td>\n",
       "      <td>-0.054813</td>\n",
       "      <td>0.037539</td>\n",
       "      <td>-0.050836</td>\n",
       "      <td>0.035862</td>\n",
       "      <td>-0.019642</td>\n",
       "      <td>0.045304</td>\n",
       "      <td>-0.040856</td>\n",
       "      <td>-0.040027</td>\n",
       "      <td>0.074320</td>\n",
       "      <td>-0.282071</td>\n",
       "      <td>-0.006552</td>\n",
       "      <td>0.030223</td>\n",
       "      <td>1.000000</td>\n",
       "      <td>NaN</td>\n",
       "    </tr>\n",
       "    <tr>\n",
       "      <th>Origin_Year</th>\n",
       "      <td>NaN</td>\n",
       "      <td>NaN</td>\n",
       "      <td>NaN</td>\n",
       "      <td>NaN</td>\n",
       "      <td>NaN</td>\n",
       "      <td>NaN</td>\n",
       "      <td>NaN</td>\n",
       "      <td>NaN</td>\n",
       "      <td>NaN</td>\n",
       "      <td>NaN</td>\n",
       "      <td>NaN</td>\n",
       "      <td>NaN</td>\n",
       "      <td>NaN</td>\n",
       "      <td>NaN</td>\n",
       "      <td>NaN</td>\n",
       "      <td>NaN</td>\n",
       "      <td>NaN</td>\n",
       "      <td>NaN</td>\n",
       "      <td>NaN</td>\n",
       "    </tr>\n",
       "  </tbody>\n",
       "</table>\n",
       "</div>"
      ],
      "text/plain": [
       "                          Loan_ID  Interest_Rate       UPB  Loan_Term  \\\n",
       "Loan_ID                  1.000000       0.000062 -0.002461  -0.001263   \n",
       "Interest_Rate            0.000062       1.000000  0.025379   0.708859   \n",
       "UPB                     -0.002461       0.025379  1.000000   0.196690   \n",
       "Loan_Term               -0.001263       0.708859  0.196690   1.000000   \n",
       "LTV                      0.003346       0.265526  0.028354   0.303295   \n",
       "CLTV                     0.004170       0.262746  0.059943   0.303876   \n",
       "Num_Borrowers           -0.001146      -0.110920  0.129300  -0.097074   \n",
       "DTI                     -0.004608       0.184152  0.064016   0.136856   \n",
       "Borrower_FICO            0.004372      -0.208904  0.077603  -0.069069   \n",
       "Unit_Count              -0.001916       0.120816  0.043422   0.019739   \n",
       "Zip                     -0.005411       0.045311  0.099851   0.076015   \n",
       "Insurance%               0.005242       0.162030 -0.015927   0.218695   \n",
       "Mortgage_Insurance_Type  0.002568       0.153735 -0.006079   0.182551   \n",
       "Period                   0.004380      -0.101084 -0.104891  -0.022778   \n",
       "Current_IR              -0.000041       0.999119  0.025419   0.708438   \n",
       "Current_UPB             -0.002905       0.201374  0.910575   0.382515   \n",
       "Age                      0.004635      -0.088775 -0.107765  -0.019913   \n",
       "Origin_Month            -0.001572      -0.282329  0.013032  -0.049707   \n",
       "Origin_Year                   NaN            NaN       NaN        NaN   \n",
       "\n",
       "                              LTV      CLTV  Num_Borrowers       DTI  \\\n",
       "Loan_ID                  0.003346  0.004170      -0.001146 -0.004608   \n",
       "Interest_Rate            0.265526  0.262746      -0.110920  0.184152   \n",
       "UPB                      0.028354  0.059943       0.129300  0.064016   \n",
       "Loan_Term                0.303295  0.303876      -0.097074  0.136856   \n",
       "LTV                      1.000000  0.970603      -0.091177  0.120576   \n",
       "CLTV                     0.970603  1.000000      -0.080209  0.125620   \n",
       "Num_Borrowers           -0.091177 -0.080209       1.000000 -0.125288   \n",
       "DTI                      0.120576  0.125620      -0.125288  1.000000   \n",
       "Borrower_FICO           -0.155480 -0.161360       0.117478 -0.196455   \n",
       "Unit_Count              -0.044693 -0.050414      -0.011249  0.036456   \n",
       "Zip                     -0.042665 -0.043687       0.016730  0.029801   \n",
       "Insurance%               0.531254  0.514820      -0.060312  0.077696   \n",
       "Mortgage_Insurance_Type  0.512354  0.495887      -0.054108  0.068377   \n",
       "Period                  -0.005846 -0.013010       0.007384 -0.007986   \n",
       "Current_IR               0.265236  0.262454      -0.110726  0.183779   \n",
       "Current_UPB              0.100135  0.130539       0.089919  0.103464   \n",
       "Age                     -0.001984 -0.009281       0.005696 -0.005609   \n",
       "Origin_Month            -0.056391 -0.054813       0.037539 -0.050836   \n",
       "Origin_Year                   NaN       NaN            NaN       NaN   \n",
       "\n",
       "                         Borrower_FICO  Unit_Count       Zip  Insurance%  \\\n",
       "Loan_ID                       0.004372   -0.001916 -0.005411    0.005242   \n",
       "Interest_Rate                -0.208904    0.120816  0.045311    0.162030   \n",
       "UPB                           0.077603    0.043422  0.099851   -0.015927   \n",
       "Loan_Term                    -0.069069    0.019739  0.076015    0.218695   \n",
       "LTV                          -0.155480   -0.044693 -0.042665    0.531254   \n",
       "CLTV                         -0.161360   -0.050414 -0.043687    0.514820   \n",
       "Num_Borrowers                 0.117478   -0.011249  0.016730   -0.060312   \n",
       "DTI                          -0.196455    0.036456  0.029801    0.077696   \n",
       "Borrower_FICO                 1.000000   -0.006328  0.049400   -0.084048   \n",
       "Unit_Count                   -0.006328    1.000000  0.006123   -0.048843   \n",
       "Zip                           0.049400    0.006123  1.000000   -0.014558   \n",
       "Insurance%                   -0.084048   -0.048843 -0.014558    1.000000   \n",
       "Mortgage_Insurance_Type      -0.072558   -0.049357 -0.021603    0.911738   \n",
       "Period                        0.018426    0.013933 -0.084995   -0.011749   \n",
       "Current_IR                   -0.208043    0.120837  0.045603    0.161855   \n",
       "Current_UPB                   0.030255    0.041133  0.113507    0.040566   \n",
       "Age                           0.016354    0.014272 -0.088628   -0.009253   \n",
       "Origin_Month                  0.035862   -0.019642  0.045304   -0.040856   \n",
       "Origin_Year                        NaN         NaN       NaN         NaN   \n",
       "\n",
       "                         Mortgage_Insurance_Type    Period  Current_IR  \\\n",
       "Loan_ID                                 0.002568  0.004380   -0.000041   \n",
       "Interest_Rate                           0.153735 -0.101084    0.999119   \n",
       "UPB                                    -0.006079 -0.104891    0.025419   \n",
       "Loan_Term                               0.182551 -0.022778    0.708438   \n",
       "LTV                                     0.512354 -0.005846    0.265236   \n",
       "CLTV                                    0.495887 -0.013010    0.262454   \n",
       "Num_Borrowers                          -0.054108  0.007384   -0.110726   \n",
       "DTI                                     0.068377 -0.007986    0.183779   \n",
       "Borrower_FICO                          -0.072558  0.018426   -0.208043   \n",
       "Unit_Count                             -0.049357  0.013933    0.120837   \n",
       "Zip                                    -0.021603 -0.084995    0.045603   \n",
       "Insurance%                              0.911738 -0.011749    0.161855   \n",
       "Mortgage_Insurance_Type                 1.000000 -0.016188    0.153459   \n",
       "Period                                 -0.016188  1.000000   -0.101365   \n",
       "Current_IR                              0.153459 -0.101365    1.000000   \n",
       "Current_UPB                             0.044917 -0.258249    0.201203   \n",
       "Age                                    -0.013832  0.995989   -0.089061   \n",
       "Origin_Month                           -0.040027  0.074320   -0.282071   \n",
       "Origin_Year                                  NaN       NaN         NaN   \n",
       "\n",
       "                         Current_UPB       Age  Origin_Month  Origin_Year  \n",
       "Loan_ID                    -0.002905  0.004635     -0.001572          NaN  \n",
       "Interest_Rate               0.201374 -0.088775     -0.282329          NaN  \n",
       "UPB                         0.910575 -0.107765      0.013032          NaN  \n",
       "Loan_Term                   0.382515 -0.019913     -0.049707          NaN  \n",
       "LTV                         0.100135 -0.001984     -0.056391          NaN  \n",
       "CLTV                        0.130539 -0.009281     -0.054813          NaN  \n",
       "Num_Borrowers               0.089919  0.005696      0.037539          NaN  \n",
       "DTI                         0.103464 -0.005609     -0.050836          NaN  \n",
       "Borrower_FICO               0.030255  0.016354      0.035862          NaN  \n",
       "Unit_Count                  0.041133  0.014272     -0.019642          NaN  \n",
       "Zip                         0.113507 -0.088628      0.045304          NaN  \n",
       "Insurance%                  0.040566 -0.009253     -0.040856          NaN  \n",
       "Mortgage_Insurance_Type     0.044917 -0.013832     -0.040027          NaN  \n",
       "Period                     -0.258249  0.995989      0.074320          NaN  \n",
       "Current_IR                  0.201203 -0.089061     -0.282071          NaN  \n",
       "Current_UPB                 1.000000 -0.260945     -0.006552          NaN  \n",
       "Age                        -0.260945  1.000000      0.030223          NaN  \n",
       "Origin_Month               -0.006552  0.030223      1.000000          NaN  \n",
       "Origin_Year                      NaN       NaN           NaN          NaN  "
      ]
     },
     "execution_count": 4,
     "metadata": {},
     "output_type": "execute_result"
    }
   ],
   "source": [
    "# df.corr()"
   ]
  },
  {
   "cell_type": "code",
   "execution_count": 5,
   "metadata": {},
   "outputs": [
    {
     "data": {
      "image/png": "[encoded data removed]",
      "text/plain": [
       "<Figure size 432x288 with 2 Axes>"
      ]
     },
     "metadata": {
      "needs_background": "light"
     },
     "output_type": "display_data"
    }
   ],
   "source": [
    "# ax = sns.heatmap(df.corr())"
   ]
  },
  {
   "cell_type": "code",
   "execution_count": 7,
   "metadata": {},
   "outputs": [
    {
     "data": {
      "text/html": [
       "<div>\n",
       "<style scoped>\n",
       "    .dataframe tbody tr th:only-of-type {\n",
       "        vertical-align: middle;\n",
       "    }\n",
       "\n",
       "    .dataframe tbody tr th {\n",
       "        vertical-align: top;\n",
       "    }\n",
       "\n",
       "    .dataframe thead th {\n",
       "        text-align: right;\n",
       "    }\n",
       "</style>\n",
       "<table border=\"1\" class=\"dataframe\">\n",
       "  <thead>\n",
       "    <tr style=\"text-align: right;\">\n",
       "      <th></th>\n",
       "      <th>Loan_ID</th>\n",
       "      <th>Interest_Rate</th>\n",
       "      <th>UPB</th>\n",
       "      <th>Loan_Term</th>\n",
       "      <th>LTV</th>\n",
       "      <th>CLTV</th>\n",
       "      <th>Num_Borrowers</th>\n",
       "      <th>DTI</th>\n",
       "      <th>Borrower_FICO</th>\n",
       "      <th>Unit_Count</th>\n",
       "      <th>Zip</th>\n",
       "      <th>Insurance%</th>\n",
       "      <th>Mortgage_Insurance_Type</th>\n",
       "      <th>Period</th>\n",
       "      <th>Current_IR</th>\n",
       "      <th>Current_UPB</th>\n",
       "      <th>Age</th>\n",
       "      <th>Origin_Month</th>\n",
       "      <th>Origin_Year</th>\n",
       "    </tr>\n",
       "  </thead>\n",
       "  <tbody>\n",
       "    <tr>\n",
       "      <th>count</th>\n",
       "      <td>1.000000e+05</td>\n",
       "      <td>100000.000000</td>\n",
       "      <td>1.000000e+05</td>\n",
       "      <td>100000.000000</td>\n",
       "      <td>100000.000000</td>\n",
       "      <td>100000.000000</td>\n",
       "      <td>100000.000000</td>\n",
       "      <td>100000.000000</td>\n",
       "      <td>100000.000000</td>\n",
       "      <td>100000.000000</td>\n",
       "      <td>100000.000000</td>\n",
       "      <td>100000.000000</td>\n",
       "      <td>100000.000000</td>\n",
       "      <td>100000.00000</td>\n",
       "      <td>100000.000000</td>\n",
       "      <td>1.000000e+05</td>\n",
       "      <td>100000.000000</td>\n",
       "      <td>100000.000000</td>\n",
       "      <td>100000.0</td>\n",
       "    </tr>\n",
       "    <tr>\n",
       "      <th>mean</th>\n",
       "      <td>1.629143e+11</td>\n",
       "      <td>3.647759</td>\n",
       "      <td>2.296624e+05</td>\n",
       "      <td>295.862180</td>\n",
       "      <td>69.109130</td>\n",
       "      <td>70.080670</td>\n",
       "      <td>1.600820</td>\n",
       "      <td>30.702930</td>\n",
       "      <td>770.371740</td>\n",
       "      <td>1.028220</td>\n",
       "      <td>567.360230</td>\n",
       "      <td>3.596060</td>\n",
       "      <td>0.160650</td>\n",
       "      <td>201745.69208</td>\n",
       "      <td>3.647582</td>\n",
       "      <td>1.813684e+05</td>\n",
       "      <td>63.041340</td>\n",
       "      <td>8.942660</td>\n",
       "      <td>2012.0</td>\n",
       "    </tr>\n",
       "    <tr>\n",
       "      <th>std</th>\n",
       "      <td>3.622965e+10</td>\n",
       "      <td>0.462883</td>\n",
       "      <td>1.232712e+05</td>\n",
       "      <td>87.702246</td>\n",
       "      <td>17.238985</td>\n",
       "      <td>17.065667</td>\n",
       "      <td>0.499297</td>\n",
       "      <td>9.593641</td>\n",
       "      <td>38.394589</td>\n",
       "      <td>0.227033</td>\n",
       "      <td>312.447767</td>\n",
       "      <td>9.122704</td>\n",
       "      <td>0.402794</td>\n",
       "      <td>214.15654</td>\n",
       "      <td>0.462983</td>\n",
       "      <td>1.170447e+05</td>\n",
       "      <td>25.410624</td>\n",
       "      <td>1.130621</td>\n",
       "      <td>0.0</td>\n",
       "    </tr>\n",
       "    <tr>\n",
       "      <th>min</th>\n",
       "      <td>1.000027e+11</td>\n",
       "      <td>2.000000</td>\n",
       "      <td>1.200000e+04</td>\n",
       "      <td>60.000000</td>\n",
       "      <td>6.000000</td>\n",
       "      <td>6.000000</td>\n",
       "      <td>1.000000</td>\n",
       "      <td>1.000000</td>\n",
       "      <td>554.000000</td>\n",
       "      <td>1.000000</td>\n",
       "      <td>6.000000</td>\n",
       "      <td>0.000000</td>\n",
       "      <td>0.000000</td>\n",
       "      <td>201208.00000</td>\n",
       "      <td>2.000000</td>\n",
       "      <td>1.000000e-02</td>\n",
       "      <td>0.000000</td>\n",
       "      <td>1.000000</td>\n",
       "      <td>2012.0</td>\n",
       "    </tr>\n",
       "    <tr>\n",
       "      <th>25%</th>\n",
       "      <td>1.316282e+11</td>\n",
       "      <td>3.375000</td>\n",
       "      <td>1.320000e+05</td>\n",
       "      <td>180.000000</td>\n",
       "      <td>59.000000</td>\n",
       "      <td>60.000000</td>\n",
       "      <td>1.000000</td>\n",
       "      <td>23.000000</td>\n",
       "      <td>751.000000</td>\n",
       "      <td>1.000000</td>\n",
       "      <td>296.000000</td>\n",
       "      <td>0.000000</td>\n",
       "      <td>0.000000</td>\n",
       "      <td>201605.00000</td>\n",
       "      <td>3.375000</td>\n",
       "      <td>9.220615e+04</td>\n",
       "      <td>45.000000</td>\n",
       "      <td>8.000000</td>\n",
       "      <td>2012.0</td>\n",
       "    </tr>\n",
       "    <tr>\n",
       "      <th>50%</th>\n",
       "      <td>1.629150e+11</td>\n",
       "      <td>3.750000</td>\n",
       "      <td>2.050000e+05</td>\n",
       "      <td>360.000000</td>\n",
       "      <td>74.000000</td>\n",
       "      <td>75.000000</td>\n",
       "      <td>2.000000</td>\n",
       "      <td>31.000000</td>\n",
       "      <td>781.000000</td>\n",
       "      <td>1.000000</td>\n",
       "      <td>600.000000</td>\n",
       "      <td>0.000000</td>\n",
       "      <td>0.000000</td>\n",
       "      <td>201906.00000</td>\n",
       "      <td>3.745000</td>\n",
       "      <td>1.573533e+05</td>\n",
       "      <td>81.000000</td>\n",
       "      <td>9.000000</td>\n",
       "      <td>2012.0</td>\n",
       "    </tr>\n",
       "    <tr>\n",
       "      <th>75%</th>\n",
       "      <td>1.943509e+11</td>\n",
       "      <td>3.990000</td>\n",
       "      <td>3.090000e+05</td>\n",
       "      <td>360.000000</td>\n",
       "      <td>80.000000</td>\n",
       "      <td>80.000000</td>\n",
       "      <td>2.000000</td>\n",
       "      <td>39.000000</td>\n",
       "      <td>799.000000</td>\n",
       "      <td>1.000000</td>\n",
       "      <td>880.000000</td>\n",
       "      <td>0.000000</td>\n",
       "      <td>0.000000</td>\n",
       "      <td>201906.00000</td>\n",
       "      <td>3.990000</td>\n",
       "      <td>2.502889e+05</td>\n",
       "      <td>82.000000</td>\n",
       "      <td>10.000000</td>\n",
       "      <td>2012.0</td>\n",
       "    </tr>\n",
       "    <tr>\n",
       "      <th>max</th>\n",
       "      <td>2.256998e+11</td>\n",
       "      <td>6.625000</td>\n",
       "      <td>1.200000e+06</td>\n",
       "      <td>360.000000</td>\n",
       "      <td>97.000000</td>\n",
       "      <td>105.000000</td>\n",
       "      <td>6.000000</td>\n",
       "      <td>57.000000</td>\n",
       "      <td>837.000000</td>\n",
       "      <td>4.000000</td>\n",
       "      <td>999.000000</td>\n",
       "      <td>40.000000</td>\n",
       "      <td>2.000000</td>\n",
       "      <td>201906.00000</td>\n",
       "      <td>6.625000</td>\n",
       "      <td>1.142910e+06</td>\n",
       "      <td>90.000000</td>\n",
       "      <td>11.000000</td>\n",
       "      <td>2012.0</td>\n",
       "    </tr>\n",
       "  </tbody>\n",
       "</table>\n",
       "</div>"
      ],
      "text/plain": [
       "            Loan_ID  Interest_Rate           UPB      Loan_Term  \\\n",
       "count  1.000000e+05  100000.000000  1.000000e+05  100000.000000   \n",
       "mean   1.629143e+11       3.647759  2.296624e+05     295.862180   \n",
       "std    3.622965e+10       0.462883  1.232712e+05      87.702246   \n",
       "min    1.000027e+11       2.000000  1.200000e+04      60.000000   \n",
       "25%    1.316282e+11       3.375000  1.320000e+05     180.000000   \n",
       "50%    1.629150e+11       3.750000  2.050000e+05     360.000000   \n",
       "75%    1.943509e+11       3.990000  3.090000e+05     360.000000   \n",
       "max    2.256998e+11       6.625000  1.200000e+06     360.000000   \n",
       "\n",
       "                 LTV           CLTV  Num_Borrowers            DTI  \\\n",
       "count  100000.000000  100000.000000  100000.000000  100000.000000   \n",
       "mean       69.109130      70.080670       1.600820      30.702930   \n",
       "std        17.238985      17.065667       0.499297       9.593641   \n",
       "min         6.000000       6.000000       1.000000       1.000000   \n",
       "25%        59.000000      60.000000       1.000000      23.000000   \n",
       "50%        74.000000      75.000000       2.000000      31.000000   \n",
       "75%        80.000000      80.000000       2.000000      39.000000   \n",
       "max        97.000000     105.000000       6.000000      57.000000   \n",
       "\n",
       "       Borrower_FICO     Unit_Count            Zip     Insurance%  \\\n",
       "count  100000.000000  100000.000000  100000.000000  100000.000000   \n",
       "mean      770.371740       1.028220     567.360230       3.596060   \n",
       "std        38.394589       0.227033     312.447767       9.122704   \n",
       "min       554.000000       1.000000       6.000000       0.000000   \n",
       "25%       751.000000       1.000000     296.000000       0.000000   \n",
       "50%       781.000000       1.000000     600.000000       0.000000   \n",
       "75%       799.000000       1.000000     880.000000       0.000000   \n",
       "max       837.000000       4.000000     999.000000      40.000000   \n",
       "\n",
       "       Mortgage_Insurance_Type        Period     Current_IR   Current_UPB  \\\n",
       "count            100000.000000  100000.00000  100000.000000  1.000000e+05   \n",
       "mean                  0.160650  201745.69208       3.647582  1.813684e+05   \n",
       "std                   0.402794     214.15654       0.462983  1.170447e+05   \n",
       "min                   0.000000  201208.00000       2.000000  1.000000e-02   \n",
       "25%                   0.000000  201605.00000       3.375000  9.220615e+04   \n",
       "50%                   0.000000  201906.00000       3.745000  1.573533e+05   \n",
       "75%                   0.000000  201906.00000       3.990000  2.502889e+05   \n",
       "max                   2.000000  201906.00000       6.625000  1.142910e+06   \n",
       "\n",
       "                 Age   Origin_Month  Origin_Year  \n",
       "count  100000.000000  100000.000000     100000.0  \n",
       "mean       63.041340       8.942660       2012.0  \n",
       "std        25.410624       1.130621          0.0  \n",
       "min         0.000000       1.000000       2012.0  \n",
       "25%        45.000000       8.000000       2012.0  \n",
       "50%        81.000000       9.000000       2012.0  \n",
       "75%        82.000000      10.000000       2012.0  \n",
       "max        90.000000      11.000000       2012.0  "
      ]
     },
     "execution_count": 7,
     "metadata": {},
     "output_type": "execute_result"
    }
   ],
   "source": [
    "# df.describe()"
   ]
  },
  {
   "cell_type": "code",
   "execution_count": 9,
   "metadata": {},
   "outputs": [
    {
     "data": {
      "text/plain": [
       "19"
      ]
     },
     "execution_count": 9,
     "metadata": {},
     "output_type": "execute_result"
    }
   ],
   "source": [
    "# df._get_numeric_data().columns.value_counts().sum() # checking how many numeric columns in the dataset"
   ]
  },
  {
   "cell_type": "code",
   "execution_count": 10,
   "metadata": {},
   "outputs": [
    {
     "data": {
      "text/plain": [
       "Index(['Loan_ID', 'Interest_Rate', 'UPB', 'Loan_Term', 'LTV', 'CLTV',\n",
       "       'Num_Borrowers', 'DTI', 'Borrower_FICO', 'Unit_Count', 'Zip',\n",
       "       'Insurance%', 'Mortgage_Insurance_Type', 'Period', 'Current_IR',\n",
       "       'Current_UPB', 'Age', 'Origin_Month', 'Origin_Year'],\n",
       "      dtype='object')"
      ]
     },
     "execution_count": 10,
     "metadata": {},
     "output_type": "execute_result"
    }
   ],
   "source": [
    "# df._get_numeric_data().columns # getting numeric column from the dataset"
   ]
  },
  {
   "cell_type": "code",
   "execution_count": 11,
   "metadata": {},
   "outputs": [
    {
     "data": {
      "text/plain": [
       "{'Channel',\n",
       " 'Current_Status',\n",
       " 'Dwelling_Type',\n",
       " 'FICO_bins',\n",
       " 'First_Payment_Date',\n",
       " 'First_Time_Buyer',\n",
       " 'Loan_Purpose',\n",
       " 'Mod_Ind',\n",
       " 'Occupancy',\n",
       " 'Origination_Date',\n",
       " 'Product',\n",
       " 'Relocation_Indicator',\n",
       " 'Seller',\n",
       " 'State',\n",
       " 'Term_bins',\n",
       " 'Zero_Bal_Cd'}"
      ]
     },
     "execution_count": 11,
     "metadata": {},
     "output_type": "execute_result"
    }
   ],
   "source": [
    "# numeric_col = df._get_numeric_data().columns\n",
    "# cat_col = set(df.columns) - set(numeric_col)\n",
    "# cat_col\n",
    "\n",
    "# ## category column"
   ]
  },
  {
   "cell_type": "code",
   "execution_count": 12,
   "metadata": {},
   "outputs": [
    {
     "data": {
      "text/plain": [
       "R    51451\n",
       "C    35122\n",
       "B    13427\n",
       "Name: Channel, dtype: int64"
      ]
     },
     "execution_count": 12,
     "metadata": {},
     "output_type": "execute_result"
    }
   ],
   "source": [
    "df.Channel.value_counts()"
   ]
  },
  {
   "cell_type": "code",
   "execution_count": 13,
   "metadata": {},
   "outputs": [
    {
     "data": {
      "text/plain": [
       "Current            53775\n",
       "Prepaid            46070\n",
       "Underperforming      155\n",
       "Name: Current_Status, dtype: int64"
      ]
     },
     "execution_count": 13,
     "metadata": {},
     "output_type": "execute_result"
    }
   ],
   "source": [
    "df.Current_Status.value_counts()"
   ]
  },
  {
   "cell_type": "code",
   "execution_count": 14,
   "metadata": {},
   "outputs": [
    {
     "data": {
      "text/plain": [
       "SF    66733\n",
       "PU    24510\n",
       "CO     8001\n",
       "CP      539\n",
       "MH      217\n",
       "Name: Dwelling_Type, dtype: int64"
      ]
     },
     "execution_count": 14,
     "metadata": {},
     "output_type": "execute_result"
    }
   ],
   "source": [
    "df.Dwelling_Type.value_counts()"
   ]
  },
  {
   "cell_type": "code",
   "execution_count": 15,
   "metadata": {},
   "outputs": [
    {
     "data": {
      "text/plain": [
       "780+       51161\n",
       "740-780    29001\n",
       "700-740    12912\n",
       "660-700     5499\n",
       "620-660     1407\n",
       "0-620         20\n",
       "Name: FICO_bins, dtype: int64"
      ]
     },
     "execution_count": 15,
     "metadata": {},
     "output_type": "execute_result"
    }
   ],
   "source": [
    "df.FICO_bins.value_counts()"
   ]
  },
  {
   "cell_type": "code",
   "execution_count": 16,
   "metadata": {},
   "outputs": [
    {
     "data": {
      "text/plain": [
       "09/2012    30988\n",
       "10/2012    27854\n",
       "08/2012    25371\n",
       "07/2012     8272\n",
       "11/2012     6311\n",
       "06/2012      825\n",
       "05/2012      205\n",
       "04/2012       92\n",
       "03/2012       44\n",
       "02/2012       28\n",
       "01/2012       10\n",
       "Name: First_Payment_Date, dtype: int64"
      ]
     },
     "execution_count": 16,
     "metadata": {},
     "output_type": "execute_result"
    }
   ],
   "source": [
    "df.First_Payment_Date.value_counts()"
   ]
  },
  {
   "cell_type": "code",
   "execution_count": 17,
   "metadata": {},
   "outputs": [
    {
     "data": {
      "text/plain": [
       "N    89399\n",
       "Y    10600\n",
       "U        1\n",
       "Name: First_Time_Buyer, dtype: int64"
      ]
     },
     "execution_count": 17,
     "metadata": {},
     "output_type": "execute_result"
    }
   ],
   "source": [
    "df.First_Time_Buyer.value_counts()"
   ]
  },
  {
   "cell_type": "code",
   "execution_count": 18,
   "metadata": {},
   "outputs": [
    {
     "data": {
      "text/plain": [
       "R    46407\n",
       "P    32639\n",
       "C    20954\n",
       "Name: Loan_Purpose, dtype: int64"
      ]
     },
     "execution_count": 18,
     "metadata": {},
     "output_type": "execute_result"
    }
   ],
   "source": [
    "df.Loan_Purpose.value_counts()"
   ]
  },
  {
   "cell_type": "code",
   "execution_count": 19,
   "metadata": {},
   "outputs": [
    {
     "data": {
      "text/plain": [
       "N    99729\n",
       "Y      271\n",
       "Name: Mod_Ind, dtype: int64"
      ]
     },
     "execution_count": 19,
     "metadata": {},
     "output_type": "execute_result"
    }
   ],
   "source": [
    "df.Mod_Ind.value_counts()"
   ]
  },
  {
   "cell_type": "code",
   "execution_count": 20,
   "metadata": {},
   "outputs": [
    {
     "data": {
      "text/plain": [
       "P    88090\n",
       "I     7540\n",
       "S     4370\n",
       "Name: Occupancy, dtype: int64"
      ]
     },
     "execution_count": 20,
     "metadata": {},
     "output_type": "execute_result"
    }
   ],
   "source": [
    "df.Occupancy.value_counts()"
   ]
  },
  {
   "cell_type": "code",
   "execution_count": 21,
   "metadata": {},
   "outputs": [
    {
     "data": {
      "text/plain": [
       "07/2012    30173\n",
       "08/2012    28512\n",
       "06/2012    26307\n",
       "05/2012     8416\n",
       "09/2012     5382\n",
       "04/2012      818\n",
       "03/2012      223\n",
       "02/2012       85\n",
       "01/2012       43\n",
       "12/2011       32\n",
       "11/2011        7\n",
       "10/2011        2\n",
       "Name: Origination_Date, dtype: int64"
      ]
     },
     "execution_count": 21,
     "metadata": {},
     "output_type": "execute_result"
    }
   ],
   "source": [
    "df.Origination_Date.value_counts()"
   ]
  },
  {
   "cell_type": "code",
   "execution_count": 21,
   "metadata": {},
   "outputs": [
    {
     "data": {
      "text/plain": [
       "FRM    100000\n",
       "Name: Product, dtype: int64"
      ]
     },
     "execution_count": 21,
     "metadata": {},
     "output_type": "execute_result"
    }
   ],
   "source": [
    "df.Product.value_counts()"
   ]
  },
  {
   "cell_type": "code",
   "execution_count": 22,
   "metadata": {},
   "outputs": [
    {
     "data": {
      "text/plain": [
       "N    99302\n",
       "Y      698\n",
       "Name: Relocation_Indicator, dtype: int64"
      ]
     },
     "execution_count": 22,
     "metadata": {},
     "output_type": "execute_result"
    }
   ],
   "source": [
    "df.Relocation_Indicator.value_counts()"
   ]
  },
  {
   "cell_type": "code",
   "execution_count": 23,
   "metadata": {},
   "outputs": [
    {
     "data": {
      "text/plain": [
       "OTHER                                                         45346\n",
       "WELLS FARGO BANK, N.A.                                        20321\n",
       "JPMORGAN CHASE BANK, NATIONAL ASSOCIATION                      7976\n",
       "FLAGSTAR CAPITAL MARKETS CORPORATION                           4602\n",
       "QUICKEN LOANS INC.                                             3630\n",
       "PHH MORTGAGE CORPORATION                                       2680\n",
       "CITIMORTGAGE, INC.                                             2312\n",
       "ALLY BANK                                                      1938\n",
       "PENNYMAC CORP.                                                 1807\n",
       "SUNTRUST MORTGAGE INC.                                         1784\n",
       "FRANKLIN AMERICAN MORTGAGE COMPANY                             1612\n",
       "NYCB MORTGAGE COMPANY, LLC                                     1312\n",
       "STEARNS LENDING, LLC                                            988\n",
       "FEDERAL HOME LOAN BANK OF CHICAGO                               963\n",
       "HOMEWARD RESIDENTIAL, INC.                                      789\n",
       "CHICAGO MORTGAGE SOLUTIONS DBA INTERFIRST MORTGAGE COMPANY      747\n",
       "PROVIDENT FUNDING ASSOCIATES, L.P.                              449\n",
       "CASHCALL, INC.                                                  400\n",
       "AMERISAVE MORTGAGE CORPORATION                                  344\n",
       "Name: Seller, dtype: int64"
      ]
     },
     "execution_count": 23,
     "metadata": {},
     "output_type": "execute_result"
    }
   ],
   "source": [
    "df.Seller.value_counts()"
   ]
  },
  {
   "cell_type": "code",
   "execution_count": 24,
   "metadata": {
    "scrolled": true
   },
   "outputs": [
    {
     "data": {
      "text/plain": [
       "CA    19490\n",
       "TX     6986\n",
       "IL     4855\n",
       "MA     3853\n",
       "NY     3626\n",
       "PA     3426\n",
       "WI     3409\n",
       "CO     3222\n",
       "NJ     3162\n",
       "FL     3043\n",
       "WA     2900\n",
       "VA     2810\n",
       "MI     2620\n",
       "OH     2417\n",
       "NC     2149\n",
       "AZ     2108\n",
       "MO     1933\n",
       "MN     1910\n",
       "MD     1903\n",
       "GA     1814\n",
       "IN     1809\n",
       "TN     1551\n",
       "IA     1403\n",
       "OR     1335\n",
       "UT     1305\n",
       "LA     1175\n",
       "AL     1143\n",
       "CT     1114\n",
       "SC     1091\n",
       "OK      944\n",
       "KY      909\n",
       "NE      764\n",
       "AR      627\n",
       "KS      619\n",
       "MS      581\n",
       "ID      520\n",
       "NV      510\n",
       "NM      508\n",
       "MT      490\n",
       "SD      446\n",
       "NH      425\n",
       "HI      401\n",
       "PR      371\n",
       "AK      299\n",
       "DE      293\n",
       "DC      286\n",
       "RI      283\n",
       "WY      256\n",
       "ND      247\n",
       "WV      228\n",
       "VT      213\n",
       "ME      207\n",
       "VI        6\n",
       "GU        5\n",
       "Name: State, dtype: int64"
      ]
     },
     "execution_count": 24,
     "metadata": {},
     "output_type": "execute_result"
    }
   ],
   "source": [
    "df.State.value_counts()"
   ]
  },
  {
   "cell_type": "code",
   "execution_count": 25,
   "metadata": {},
   "outputs": [
    {
     "data": {
      "text/plain": [
       "<= 30 Years    69956\n",
       "<=15 Years     30044\n",
       "Name: Term_bins, dtype: int64"
      ]
     },
     "execution_count": 25,
     "metadata": {},
     "output_type": "execute_result"
    }
   ],
   "source": [
    "df.Term_bins.value_counts()"
   ]
  },
  {
   "cell_type": "code",
   "execution_count": 26,
   "metadata": {},
   "outputs": [
    {
     "data": {
      "text/plain": [
       "Current             53775\n",
       "Prepaid             46070\n",
       "REO                    79\n",
       "Repurchase             33\n",
       "Third Party Sale       26\n",
       "Short Sale              8\n",
       "RPL Loan Sale           6\n",
       "Note Sale               3\n",
       "Name: Zero_Bal_Cd, dtype: int64"
      ]
     },
     "execution_count": 26,
     "metadata": {},
     "output_type": "execute_result"
    }
   ],
   "source": [
    "df.Zero_Bal_Cd.value_counts()"
   ]
  },
  {
   "cell_type": "code",
   "execution_count": 27,
   "metadata": {},
   "outputs": [],
   "source": [
    "# To encode: \n",
    "#     Channel Seller \n",
    "#     First_Time_Buyer \n",
    "#     Loan_Purpose \n",
    "#     Occupancy \n",
    "#     Mortgage_Insurance_Type \n",
    "#     Relocation_Indicator \n",
    "#     Mod_Ind/ Modification indicator"
   ]
  },
  {
   "cell_type": "code",
   "execution_count": 28,
   "metadata": {},
   "outputs": [
    {
     "data": {
      "text/plain": [
       "(100000, 35)"
      ]
     },
     "execution_count": 28,
     "metadata": {},
     "output_type": "execute_result"
    }
   ],
   "source": [
    "df.shape"
   ]
  },
  {
   "cell_type": "code",
   "execution_count": 29,
   "metadata": {},
   "outputs": [],
   "source": [
    "# df_ml = df[df.Current_Status != 'Current']\n",
    "df_ml =df # Repliccating the dataset to create machine learning algorithms"
   ]
  },
  {
   "cell_type": "code",
   "execution_count": 30,
   "metadata": {},
   "outputs": [
    {
     "data": {
      "text/plain": [
       "(100000, 35)"
      ]
     },
     "execution_count": 30,
     "metadata": {},
     "output_type": "execute_result"
    }
   ],
   "source": [
    "df_ml.shape"
   ]
  },
  {
   "cell_type": "code",
   "execution_count": 145,
   "metadata": {
    "scrolled": true
   },
   "outputs": [
    {
     "data": {
      "text/plain": [
       "Interest_Rate                                                        0.080149\n",
       "UPB                                                                  0.042299\n",
       "Loan_Term                                                            0.000970\n",
       "LTV                                                                  0.026432\n",
       "Num_Borrowers                                                       -0.015887\n",
       "DTI                                                                  0.009734\n",
       "Borrower_FICO                                                       -0.036607\n",
       "Unit_Count                                                          -0.015962\n",
       "Insurance%                                                           0.037021\n",
       "Mortgage_Insurance_Type                                              0.038050\n",
       "Current_IR                                                           0.080424\n",
       "Current_UPB                                                          0.145324\n",
       "FICO_bins                                                           -0.034206\n",
       "Term_bins                                                            0.002974\n",
       "Current_Status                                                       1.000000\n",
       "Channel_B                                                            0.000149\n",
       "Channel_C                                                            0.018804\n",
       "Channel_R                                                           -0.018062\n",
       "Seller_ALLY BANK                                                     0.010720\n",
       "Seller_AMERISAVE MORTGAGE CORPORATION                                0.008323\n",
       "Seller_CASHCALL, INC.                                                0.015623\n",
       "Seller_CHICAGO MORTGAGE SOLUTIONS DBA INTERFIRST MORTGAGE COMPANY    0.002440\n",
       "Seller_CITIMORTGAGE, INC.                                            0.000623\n",
       "Seller_FEDERAL HOME LOAN BANK OF CHICAGO                            -0.002579\n",
       "Seller_FLAGSTAR CAPITAL MARKETS CORPORATION                          0.003100\n",
       "Seller_FRANKLIN AMERICAN MORTGAGE COMPANY                           -0.005166\n",
       "Seller_HOMEWARD RESIDENTIAL, INC.                                    0.007672\n",
       "Seller_JPMORGAN CHASE BANK, NATIONAL ASSOCIATION                     0.004247\n",
       "Seller_NYCB MORTGAGE COMPANY, LLC                                    0.003064\n",
       "Seller_OTHER                                                        -0.041652\n",
       "Seller_PENNYMAC CORP.                                                0.013602\n",
       "Seller_PHH MORTGAGE CORPORATION                                     -0.006662\n",
       "Seller_PROVIDENT FUNDING ASSOCIATES, L.P.                           -0.001564\n",
       "Seller_QUICKEN LOANS INC.                                            0.057155\n",
       "Seller_STEARNS LENDING, LLC                                         -0.003674\n",
       "Seller_SUNTRUST MORTGAGE INC.                                        0.007465\n",
       "Seller_WELLS FARGO BANK, N.A.                                        0.008970\n",
       "First_Time_Buyer_N                                                   0.002249\n",
       "First_Time_Buyer_U                                                  -0.002923\n",
       "First_Time_Buyer_Y                                                  -0.002219\n",
       "Loan_Purpose_C                                                      -0.022401\n",
       "Loan_Purpose_P                                                       0.011817\n",
       "Loan_Purpose_R                                                       0.007170\n",
       "Dwelling_Type_CO                                                     0.033799\n",
       "Dwelling_Type_CP                                                    -0.013606\n",
       "Dwelling_Type_MH                                                    -0.002846\n",
       "Dwelling_Type_PU                                                     0.044165\n",
       "Dwelling_Type_SF                                                    -0.057386\n",
       "Occupancy_I                                                          0.015469\n",
       "Occupancy_P                                                         -0.018036\n",
       "Occupancy_S                                                          0.008598\n",
       "Relocation_Indicator_N                                              -0.017060\n",
       "Relocation_Indicator_Y                                               0.017060\n",
       "Mod_Ind_N                                                            0.022882\n",
       "Mod_Ind_Y                                                           -0.022882\n",
       "Name: Current_Status, dtype: float64"
      ]
     },
     "execution_count": 145,
     "metadata": {},
     "output_type": "execute_result"
    }
   ],
   "source": [
    "df_corr_ml = df\n",
    "\n",
    "df_corr_ml = df_corr_ml.drop(['Age','Loan_ID','Origination_Date','First_Payment_Date','CLTV','State','Zip','Product','Period','Zero_Bal_Cd','Origin_Month','Origin_Year'],axis=1)#,inplace= True)\n",
    "\n",
    "cleanup_nums = {\"Term_bins\":     {\"<= 30 Years\": 1, \"<=15 Years\": 0},\n",
    "                \"FICO_bins\": {\"0-620\": 0, \"620-660\": 1, \"660-700\": 2, \"700-740\": 3,\"740-780\": 4, \"780+\": 5},\n",
    "                \"Current_Status\":{\"Current\": 1, \"Prepaid\":2, \"Underperforming\":3}}\n",
    "\n",
    "df_corr_ml = df_corr_ml.replace(cleanup_nums)#, inplace=True)\n",
    "\n",
    "df_corr_ml = pd.get_dummies(df_corr_ml)\n",
    "corr = df_corr_ml.corr()\n",
    "corr.Current_Status\n"
   ]
  },
  {
   "cell_type": "markdown",
   "metadata": {},
   "source": [
    "# Modelling with all features"
   ]
  },
  {
   "cell_type": "code",
   "execution_count": 71,
   "metadata": {},
   "outputs": [],
   "source": [
    "df_ml_org =df_2004"
   ]
  },
  {
   "cell_type": "code",
   "execution_count": 72,
   "metadata": {},
   "outputs": [],
   "source": [
    "df_ml_org = df_2004[df_2004['Current_Status'] != 'Current']"
   ]
  },
  {
   "cell_type": "code",
   "execution_count": 73,
   "metadata": {},
   "outputs": [
    {
     "data": {
      "text/plain": [
       "Prepaid            90026\n",
       "Underperforming     3418\n",
       "Name: Current_Status, dtype: int64"
      ]
     },
     "execution_count": 73,
     "metadata": {},
     "output_type": "execute_result"
    }
   ],
   "source": [
    "df_ml_org.Current_Status.value_counts()"
   ]
  },
  {
   "cell_type": "code",
   "execution_count": 74,
   "metadata": {},
   "outputs": [],
   "source": [
    "df_ml = df_ml_org.drop(['Loan_ID','Origination_Date','First_Payment_Date','CLTV','Zip','Product','Period','Zero_Bal_Cd','Origin_Month','Origin_Year'],axis=1)#,inplace= True)\n",
    "df_target = df_ml.Current_Status\n",
    "df_ml = df_ml.drop('Current_Status',axis=1)\n",
    "cleanup_nums = {\"Term_bins\":     {\"<= 30 Years\": 1, \"<=15 Years\": 0},\n",
    "                \"FICO_bins\": {\"0-620\": 0, \"620-660\": 1, \"660-700\": 2, \"700-740\": 3,\n",
    "                                  \"740-780\": 4, \"780+\": 5 }}\n",
    "df_ml = df_ml.replace(cleanup_nums)#, inplace=True)\n",
    "df_ml = pd.get_dummies(df_ml)"
   ]
  },
  {
   "cell_type": "code",
   "execution_count": null,
   "metadata": {},
   "outputs": [],
   "source": [
    "# do the modeling after running above code"
   ]
  },
  {
   "cell_type": "markdown",
   "metadata": {},
   "source": [
    "# Modelling excluding biased features"
   ]
  },
  {
   "cell_type": "code",
   "execution_count": 179,
   "metadata": {},
   "outputs": [],
   "source": [
    "df_ml_e =df"
   ]
  },
  {
   "cell_type": "code",
   "execution_count": 181,
   "metadata": {},
   "outputs": [],
   "source": [
    "df_ml_e = df_ml_e.drop(['Age','Loan_ID','Origination_Date','First_Payment_Date','CLTV','State','Zip','Product','Period','Zero_Bal_Cd','Origin_Month','Origin_Year'],axis=1)#,inplace= True)\n",
    "df_target = df_ml_e.Current_Status\n",
    "df_ml_e = df_ml_e.drop('Current_Status',axis=1)\n",
    "cleanup_nums = {\"Term_bins\":     {\"<= 30 Years\": 1, \"<=15 Years\": 0},\n",
    "                \"FICO_bins\": {\"0-620\": 0, \"620-660\": 1, \"660-700\": 2, \"700-740\": 3,\n",
    "                                  \"740-780\": 4, \"780+\": 5 }}\n",
    "df_ml_e = df_ml_e.replace(cleanup_nums)#, inplace=True)\n",
    "df_ml_e = pd.get_dummies(df_ml_e)"
   ]
  },
  {
   "cell_type": "code",
   "execution_count": null,
   "metadata": {},
   "outputs": [],
   "source": [
    "# df_ml.head()"
   ]
  },
  {
   "cell_type": "code",
   "execution_count": 26,
   "metadata": {},
   "outputs": [],
   "source": [
    "Results_Store = {}\n"
   ]
  },
  {
   "cell_type": "markdown",
   "metadata": {},
   "source": [
    "# Spliting Data for train and Test"
   ]
  },
  {
   "cell_type": "code",
   "execution_count": 75,
   "metadata": {},
   "outputs": [],
   "source": [
    "from sklearn.model_selection import train_test_split\n",
    "from sklearn.preprocessing import StandardScaler\n",
    "\n",
    "# split data into train and test set\n",
    "x_train, x_test, y_train, y_test = train_test_split(df_ml, df_target, random_state=0)\n",
    "scaler = StandardScaler()\n",
    "x_train = scaler.fit_transform(x_train)\n",
    "x_test = scaler.transform(x_test)"
   ]
  },
  {
   "cell_type": "markdown",
   "metadata": {},
   "source": [
    "# Decision Tree"
   ]
  },
  {
   "cell_type": "code",
   "execution_count": 76,
   "metadata": {},
   "outputs": [],
   "source": [
    "from sklearn.tree import DecisionTreeClassifier\n",
    "from sklearn.metrics import accuracy_score,confusion_matrix\n",
    "\n",
    "# Decision tree\n",
    "clf = DecisionTreeClassifier()\n",
    "clf = clf.fit(x_train,y_train)\n",
    "\n",
    "#Predict the response for test dataset\n",
    "y_pred = clf.predict(x_test)"
   ]
  },
  {
   "cell_type": "code",
   "execution_count": 58,
   "metadata": {},
   "outputs": [],
   "source": [
    "# print(\"Accuracy:\",accuracy_score(y_test, y_pred))"
   ]
  },
  {
   "cell_type": "code",
   "execution_count": 59,
   "metadata": {},
   "outputs": [],
   "source": [
    "# confusion_matrix(y_test, y_pred)"
   ]
  },
  {
   "cell_type": "code",
   "execution_count": 77,
   "metadata": {},
   "outputs": [],
   "source": [
    "Results_Store['DT_2004'] = accuracy_score(y_test, y_pred)\n",
    "Results_Store['DT_CM_2004'] = confusion_matrix(y_test, y_pred)"
   ]
  },
  {
   "cell_type": "code",
   "execution_count": 70,
   "metadata": {},
   "outputs": [
    {
     "data": {
      "text/plain": [
       "array([[ 1544,    86,     0],\n",
       "       [   94, 22363,    26],\n",
       "       [   15,   817,    55]], dtype=int64)"
      ]
     },
     "execution_count": 70,
     "metadata": {},
     "output_type": "execute_result"
    }
   ],
   "source": [
    "confusion_matrix(y_test, y_pred)"
   ]
  },
  {
   "cell_type": "code",
   "execution_count": 32,
   "metadata": {},
   "outputs": [
    {
     "name": "stdout",
     "output_type": "stream",
     "text": [
      "{'DT_2004': 0.93768, 'DT_CM_2004': array([[ 1509,    99,    22],\n",
      "       [  114, 21724,   645],\n",
      "       [    9,   669,   209]], dtype=int64)}\n"
     ]
    }
   ],
   "source": [
    "print(Results_Store)"
   ]
  },
  {
   "cell_type": "code",
   "execution_count": 54,
   "metadata": {
    "scrolled": true
   },
   "outputs": [],
   "source": [
    "# clf.feature_importances_.shape\n",
    "feature_val = pd.DataFrame(clf.feature_importances_)\n",
    "columns = pd.DataFrame(df_ml.columns)\n",
    "feature = pd.concat([columns, feature_val], axis =1)\n",
    "feature.columns = ['Feature_DT', 'DTBiased_2004']\n",
    "# feature"
   ]
  },
  {
   "cell_type": "code",
   "execution_count": 53,
   "metadata": {},
   "outputs": [],
   "source": [
    "# feature =[]"
   ]
  },
  {
   "cell_type": "code",
   "execution_count": 52,
   "metadata": {
    "scrolled": false
   },
   "outputs": [],
   "source": [
    "# feature.sort_values('DTBiased_2004',ascending=False).head(15)"
   ]
  },
  {
   "cell_type": "markdown",
   "metadata": {},
   "source": [
    "# Random Forest"
   ]
  },
  {
   "cell_type": "code",
   "execution_count": 37,
   "metadata": {},
   "outputs": [],
   "source": [
    "from sklearn.ensemble import RandomForestClassifier\n",
    "\n",
    "#Random Forest\n",
    "classifier = RandomForestClassifier(n_estimators=20, random_state=0)\n",
    "classifier.fit(x_train, y_train)\n",
    "\n",
    "#Predict the response for test dataset\n",
    "y_pred = classifier.predict(x_test)"
   ]
  },
  {
   "cell_type": "code",
   "execution_count": 39,
   "metadata": {},
   "outputs": [
    {
     "name": "stdout",
     "output_type": "stream",
     "text": [
      "Accuracy: 0.95848\n"
     ]
    }
   ],
   "source": [
    "print(\"Accuracy:\",accuracy_score(y_test, y_pred))"
   ]
  },
  {
   "cell_type": "code",
   "execution_count": 40,
   "metadata": {},
   "outputs": [],
   "source": [
    "Results_Store['RF_2004'] = accuracy_score(y_test, y_pred)\n",
    "Results_Store['RF_CM_2004'] = confusion_matrix(y_test, y_pred)"
   ]
  },
  {
   "cell_type": "code",
   "execution_count": 55,
   "metadata": {},
   "outputs": [],
   "source": [
    "feature_val = pd.DataFrame(classifier.feature_importances_)\n",
    "feature['Feature_Rf'] = pd.DataFrame(df_ml.columns)\n",
    "feature['RFBiased_2004'] = feature_val\n",
    "\n",
    "# feature"
   ]
  },
  {
   "cell_type": "code",
   "execution_count": 60,
   "metadata": {},
   "outputs": [
    {
     "data": {
      "text/html": [
       "<div>\n",
       "<style scoped>\n",
       "    .dataframe tbody tr th:only-of-type {\n",
       "        vertical-align: middle;\n",
       "    }\n",
       "\n",
       "    .dataframe tbody tr th {\n",
       "        vertical-align: top;\n",
       "    }\n",
       "\n",
       "    .dataframe thead th {\n",
       "        text-align: right;\n",
       "    }\n",
       "</style>\n",
       "<table border=\"1\" class=\"dataframe\">\n",
       "  <thead>\n",
       "    <tr style=\"text-align: right;\">\n",
       "      <th></th>\n",
       "      <th>Feature_DT</th>\n",
       "      <th>DTBiased_2004</th>\n",
       "      <th>Feature_Rf</th>\n",
       "      <th>RFBiased_2004</th>\n",
       "    </tr>\n",
       "  </thead>\n",
       "  <tbody>\n",
       "    <tr>\n",
       "      <th>0</th>\n",
       "      <td>Interest_Rate</td>\n",
       "      <td>0.017360</td>\n",
       "      <td>Interest_Rate</td>\n",
       "      <td>0.024962</td>\n",
       "    </tr>\n",
       "    <tr>\n",
       "      <th>1</th>\n",
       "      <td>UPB</td>\n",
       "      <td>0.036321</td>\n",
       "      <td>UPB</td>\n",
       "      <td>0.047035</td>\n",
       "    </tr>\n",
       "    <tr>\n",
       "      <th>2</th>\n",
       "      <td>Loan_Term</td>\n",
       "      <td>0.004279</td>\n",
       "      <td>Loan_Term</td>\n",
       "      <td>0.010899</td>\n",
       "    </tr>\n",
       "    <tr>\n",
       "      <th>3</th>\n",
       "      <td>LTV</td>\n",
       "      <td>0.020924</td>\n",
       "      <td>LTV</td>\n",
       "      <td>0.027558</td>\n",
       "    </tr>\n",
       "    <tr>\n",
       "      <th>4</th>\n",
       "      <td>Num_Borrowers</td>\n",
       "      <td>0.004885</td>\n",
       "      <td>Num_Borrowers</td>\n",
       "      <td>0.008157</td>\n",
       "    </tr>\n",
       "  </tbody>\n",
       "</table>\n",
       "</div>"
      ],
      "text/plain": [
       "      Feature_DT  DTBiased_2004     Feature_Rf  RFBiased_2004\n",
       "0  Interest_Rate       0.017360  Interest_Rate       0.024962\n",
       "1            UPB       0.036321            UPB       0.047035\n",
       "2      Loan_Term       0.004279      Loan_Term       0.010899\n",
       "3            LTV       0.020924            LTV       0.027558\n",
       "4  Num_Borrowers       0.004885  Num_Borrowers       0.008157"
      ]
     },
     "execution_count": 60,
     "metadata": {},
     "output_type": "execute_result"
    }
   ],
   "source": [
    "feature.head()"
   ]
  },
  {
   "cell_type": "code",
   "execution_count": 44,
   "metadata": {},
   "outputs": [
    {
     "data": {
      "text/plain": [
       "array([[13360,     2,     0],\n",
       "       [  346, 11249,     0],\n",
       "       [    1,    42,     0]], dtype=int64)"
      ]
     },
     "execution_count": 44,
     "metadata": {},
     "output_type": "execute_result"
    }
   ],
   "source": [
    "confusion_matrix(y_test, y_pred)"
   ]
  },
  {
   "cell_type": "markdown",
   "metadata": {},
   "source": [
    "# XG BOOST"
   ]
  },
  {
   "cell_type": "code",
   "execution_count": 57,
   "metadata": {},
   "outputs": [
    {
     "ename": "KeyboardInterrupt",
     "evalue": "",
     "output_type": "error",
     "traceback": [
      "\u001b[1;31m---------------------------------------------------------------------------\u001b[0m",
      "\u001b[1;31mKeyboardInterrupt\u001b[0m                         Traceback (most recent call last)",
      "\u001b[1;32m<ipython-input-57-32427c44a6fe>\u001b[0m in \u001b[0;36m<module>\u001b[1;34m\u001b[0m\n\u001b[0;32m      6\u001b[0m \u001b[1;31m# fit model no training data\u001b[0m\u001b[1;33m\u001b[0m\u001b[1;33m\u001b[0m\u001b[1;33m\u001b[0m\u001b[0m\n\u001b[0;32m      7\u001b[0m \u001b[0mmodel\u001b[0m \u001b[1;33m=\u001b[0m \u001b[0mXGBClassifier\u001b[0m\u001b[1;33m(\u001b[0m\u001b[1;33m)\u001b[0m\u001b[1;33m\u001b[0m\u001b[1;33m\u001b[0m\u001b[0m\n\u001b[1;32m----> 8\u001b[1;33m \u001b[0mmodel\u001b[0m\u001b[1;33m.\u001b[0m\u001b[0mfit\u001b[0m\u001b[1;33m(\u001b[0m\u001b[0mx_train\u001b[0m\u001b[1;33m,\u001b[0m \u001b[0my_train\u001b[0m\u001b[1;33m)\u001b[0m\u001b[1;33m\u001b[0m\u001b[1;33m\u001b[0m\u001b[0m\n\u001b[0m\u001b[0;32m      9\u001b[0m \u001b[1;33m\u001b[0m\u001b[0m\n\u001b[0;32m     10\u001b[0m \u001b[1;31m#Predict the response for test dataset\u001b[0m\u001b[1;33m\u001b[0m\u001b[1;33m\u001b[0m\u001b[1;33m\u001b[0m\u001b[0m\n",
      "\u001b[1;32m~\\Anaconda3\\lib\\site-packages\\xgboost\\sklearn.py\u001b[0m in \u001b[0;36mfit\u001b[1;34m(self, X, y, sample_weight, eval_set, eval_metric, early_stopping_rounds, verbose, xgb_model, sample_weight_eval_set, callbacks)\u001b[0m\n\u001b[0;32m    730\u001b[0m                               \u001b[0mevals_result\u001b[0m\u001b[1;33m=\u001b[0m\u001b[0mevals_result\u001b[0m\u001b[1;33m,\u001b[0m \u001b[0mobj\u001b[0m\u001b[1;33m=\u001b[0m\u001b[0mobj\u001b[0m\u001b[1;33m,\u001b[0m \u001b[0mfeval\u001b[0m\u001b[1;33m=\u001b[0m\u001b[0mfeval\u001b[0m\u001b[1;33m,\u001b[0m\u001b[1;33m\u001b[0m\u001b[1;33m\u001b[0m\u001b[0m\n\u001b[0;32m    731\u001b[0m                               \u001b[0mverbose_eval\u001b[0m\u001b[1;33m=\u001b[0m\u001b[0mverbose\u001b[0m\u001b[1;33m,\u001b[0m \u001b[0mxgb_model\u001b[0m\u001b[1;33m=\u001b[0m\u001b[0mxgb_model\u001b[0m\u001b[1;33m,\u001b[0m\u001b[1;33m\u001b[0m\u001b[1;33m\u001b[0m\u001b[0m\n\u001b[1;32m--> 732\u001b[1;33m                               callbacks=callbacks)\n\u001b[0m\u001b[0;32m    733\u001b[0m \u001b[1;33m\u001b[0m\u001b[0m\n\u001b[0;32m    734\u001b[0m         \u001b[0mself\u001b[0m\u001b[1;33m.\u001b[0m\u001b[0mobjective\u001b[0m \u001b[1;33m=\u001b[0m \u001b[0mxgb_options\u001b[0m\u001b[1;33m[\u001b[0m\u001b[1;34m\"objective\"\u001b[0m\u001b[1;33m]\u001b[0m\u001b[1;33m\u001b[0m\u001b[1;33m\u001b[0m\u001b[0m\n",
      "\u001b[1;32m~\\Anaconda3\\lib\\site-packages\\xgboost\\training.py\u001b[0m in \u001b[0;36mtrain\u001b[1;34m(params, dtrain, num_boost_round, evals, obj, feval, maximize, early_stopping_rounds, evals_result, verbose_eval, xgb_model, callbacks, learning_rates)\u001b[0m\n\u001b[0;32m    214\u001b[0m                            \u001b[0mevals\u001b[0m\u001b[1;33m=\u001b[0m\u001b[0mevals\u001b[0m\u001b[1;33m,\u001b[0m\u001b[1;33m\u001b[0m\u001b[1;33m\u001b[0m\u001b[0m\n\u001b[0;32m    215\u001b[0m                            \u001b[0mobj\u001b[0m\u001b[1;33m=\u001b[0m\u001b[0mobj\u001b[0m\u001b[1;33m,\u001b[0m \u001b[0mfeval\u001b[0m\u001b[1;33m=\u001b[0m\u001b[0mfeval\u001b[0m\u001b[1;33m,\u001b[0m\u001b[1;33m\u001b[0m\u001b[1;33m\u001b[0m\u001b[0m\n\u001b[1;32m--> 216\u001b[1;33m                            xgb_model=xgb_model, callbacks=callbacks)\n\u001b[0m\u001b[0;32m    217\u001b[0m \u001b[1;33m\u001b[0m\u001b[0m\n\u001b[0;32m    218\u001b[0m \u001b[1;33m\u001b[0m\u001b[0m\n",
      "\u001b[1;32m~\\Anaconda3\\lib\\site-packages\\xgboost\\training.py\u001b[0m in \u001b[0;36m_train_internal\u001b[1;34m(params, dtrain, num_boost_round, evals, obj, feval, xgb_model, callbacks)\u001b[0m\n\u001b[0;32m     72\u001b[0m         \u001b[1;31m# Skip the first update if it is a recovery step.\u001b[0m\u001b[1;33m\u001b[0m\u001b[1;33m\u001b[0m\u001b[1;33m\u001b[0m\u001b[0m\n\u001b[0;32m     73\u001b[0m         \u001b[1;32mif\u001b[0m \u001b[0mversion\u001b[0m \u001b[1;33m%\u001b[0m \u001b[1;36m2\u001b[0m \u001b[1;33m==\u001b[0m \u001b[1;36m0\u001b[0m\u001b[1;33m:\u001b[0m\u001b[1;33m\u001b[0m\u001b[1;33m\u001b[0m\u001b[0m\n\u001b[1;32m---> 74\u001b[1;33m             \u001b[0mbst\u001b[0m\u001b[1;33m.\u001b[0m\u001b[0mupdate\u001b[0m\u001b[1;33m(\u001b[0m\u001b[0mdtrain\u001b[0m\u001b[1;33m,\u001b[0m \u001b[0mi\u001b[0m\u001b[1;33m,\u001b[0m \u001b[0mobj\u001b[0m\u001b[1;33m)\u001b[0m\u001b[1;33m\u001b[0m\u001b[1;33m\u001b[0m\u001b[0m\n\u001b[0m\u001b[0;32m     75\u001b[0m             \u001b[0mbst\u001b[0m\u001b[1;33m.\u001b[0m\u001b[0msave_rabit_checkpoint\u001b[0m\u001b[1;33m(\u001b[0m\u001b[1;33m)\u001b[0m\u001b[1;33m\u001b[0m\u001b[1;33m\u001b[0m\u001b[0m\n\u001b[0;32m     76\u001b[0m             \u001b[0mversion\u001b[0m \u001b[1;33m+=\u001b[0m \u001b[1;36m1\u001b[0m\u001b[1;33m\u001b[0m\u001b[1;33m\u001b[0m\u001b[0m\n",
      "\u001b[1;32m~\\Anaconda3\\lib\\site-packages\\xgboost\\core.py\u001b[0m in \u001b[0;36mupdate\u001b[1;34m(self, dtrain, iteration, fobj)\u001b[0m\n\u001b[0;32m   1107\u001b[0m         \u001b[1;32mif\u001b[0m \u001b[0mfobj\u001b[0m \u001b[1;32mis\u001b[0m \u001b[1;32mNone\u001b[0m\u001b[1;33m:\u001b[0m\u001b[1;33m\u001b[0m\u001b[1;33m\u001b[0m\u001b[0m\n\u001b[0;32m   1108\u001b[0m             _check_call(_LIB.XGBoosterUpdateOneIter(self.handle, ctypes.c_int(iteration),\n\u001b[1;32m-> 1109\u001b[1;33m                                                     dtrain.handle))\n\u001b[0m\u001b[0;32m   1110\u001b[0m         \u001b[1;32melse\u001b[0m\u001b[1;33m:\u001b[0m\u001b[1;33m\u001b[0m\u001b[1;33m\u001b[0m\u001b[0m\n\u001b[0;32m   1111\u001b[0m             \u001b[0mpred\u001b[0m \u001b[1;33m=\u001b[0m \u001b[0mself\u001b[0m\u001b[1;33m.\u001b[0m\u001b[0mpredict\u001b[0m\u001b[1;33m(\u001b[0m\u001b[0mdtrain\u001b[0m\u001b[1;33m)\u001b[0m\u001b[1;33m\u001b[0m\u001b[1;33m\u001b[0m\u001b[0m\n",
      "\u001b[1;31mKeyboardInterrupt\u001b[0m: "
     ]
    }
   ],
   "source": [
    "from numpy import loadtxt\n",
    "from xgboost import XGBClassifier\n",
    "from xgboost import plot_importance\n",
    "from matplotlib import pyplot\n",
    "\n",
    "# fit model no training data\n",
    "model = XGBClassifier()\n",
    "model.fit(x_train, y_train)\n",
    "\n",
    "#Predict the response for test dataset\n",
    "y_pred = model.predict(x_test)\n",
    "# plot feature importance\n",
    "# plot_importance(model)\n",
    "# pyplot.show()"
   ]
  },
  {
   "cell_type": "code",
   "execution_count": 47,
   "metadata": {},
   "outputs": [
    {
     "name": "stdout",
     "output_type": "stream",
     "text": [
      "Accuracy: 0.98492\n"
     ]
    }
   ],
   "source": [
    "print(\"Accuracy:\",accuracy_score(y_test, y_pred))"
   ]
  },
  {
   "cell_type": "code",
   "execution_count": 48,
   "metadata": {},
   "outputs": [
    {
     "data": {
      "text/plain": [
       "array([[13359,     3,     0],\n",
       "       [  332, 11262,     1],\n",
       "       [    1,    40,     2]], dtype=int64)"
      ]
     },
     "execution_count": 48,
     "metadata": {},
     "output_type": "execute_result"
    }
   ],
   "source": [
    "confusion_matrix(y_test, y_pred)"
   ]
  },
  {
   "cell_type": "markdown",
   "metadata": {},
   "source": [
    "# Logistic Regression"
   ]
  },
  {
   "cell_type": "code",
   "execution_count": 54,
   "metadata": {},
   "outputs": [],
   "source": [
    "from sklearn.linear_model import LogisticRegression\n",
    "\n",
    "classifier = LogisticRegression()\n",
    "classifier.fit(x_train, y_train)\n",
    "\n",
    "#Predict the response for test dataset\n",
    "y_pred = classifier.predict(x_test)"
   ]
  },
  {
   "cell_type": "code",
   "execution_count": 55,
   "metadata": {},
   "outputs": [
    {
     "name": "stdout",
     "output_type": "stream",
     "text": [
      "Accuracy: 0.97824\n"
     ]
    }
   ],
   "source": [
    "print(\"Accuracy:\",accuracy_score(y_test, y_pred))"
   ]
  },
  {
   "cell_type": "code",
   "execution_count": 56,
   "metadata": {},
   "outputs": [
    {
     "data": {
      "text/plain": [
       "array([[13362,     0,     0],\n",
       "       [  501, 11094,     0],\n",
       "       [    4,    39,     0]], dtype=int64)"
      ]
     },
     "execution_count": 56,
     "metadata": {},
     "output_type": "execute_result"
    }
   ],
   "source": [
    "confusion_matrix(y_test, y_pred)"
   ]
  },
  {
   "cell_type": "markdown",
   "metadata": {},
   "source": [
    "# Nueral Network"
   ]
  },
  {
   "cell_type": "code",
   "execution_count": 97,
   "metadata": {},
   "outputs": [],
   "source": [
    "# #perceptron\n",
    "\n",
    "# from tensorflow.keras import Sequential\n",
    "# from tensorflow.keras.layers import Dense\n",
    "# # 1. model - \n",
    "# model1 = Sequential()\n",
    "# model1.add(Dense(10, input_dim = x_train_val.shape[1],activation = 'relu'))\n",
    "# model1.add(Dense(1, activation = 'sigmoid'))\n",
    "# model1.compile(loss = 'binary_crossentropy',optimizer = 'adam',metrics = ['accuracy'])\n",
    "# model1.fit(x_train_val,y_train_val,epochs = 1, batch_size = 1000)"
   ]
  },
  {
   "cell_type": "code",
   "execution_count": 98,
   "metadata": {},
   "outputs": [],
   "source": [
    "# from sklearn.metrics import precision_score\n",
    "# from sklearn.metrics import recall_score\n",
    "# from sklearn.metrics import f1_score\n",
    "\n",
    "# y_pred_val = model1.predict(x_test_val)#, verbose=0)\n"
   ]
  },
  {
   "cell_type": "code",
   "execution_count": 99,
   "metadata": {},
   "outputs": [],
   "source": [
    "# confusion_matrix(y_trest_val, y_pred_val)"
   ]
  },
  {
   "cell_type": "code",
   "execution_count": 100,
   "metadata": {},
   "outputs": [],
   "source": [
    "# # predict crisp classes for test set\n",
    "# yhat_classes = model1.predict_classes(x_test_val)#, verbose=0)\n",
    "# # precision\n",
    "# precision = precision_score(y_test_val, yhat_classes,average='micro')\n",
    "# print('Precision: %f' % precision)\n",
    "# # recall:\n",
    "# recall = recall_score(y_test_val, yhat_classes,average='micro')\n",
    "# print('Recall: %f' % recall)\n",
    "# # f1:\n",
    "# # f1 = f1_score(x_test_val, yhat_classes,average='micro')\n",
    "# # print('F1 score: %f' % f1)"
   ]
  }
 ],
 "metadata": {
  "kernelspec": {
   "display_name": "Python 3",
   "language": "python",
   "name": "python3"
  },
  "language_info": {
   "codemirror_mode": {
    "name": "ipython",
    "version": 3
   },
   "file_extension": ".py",
   "mimetype": "text/x-python",
   "name": "python",
   "nbconvert_exporter": "python",
   "pygments_lexer": "ipython3",
   "version": "3.6.7"
  }
 },
 "nbformat": 4,
 "nbformat_minor": 2
}
